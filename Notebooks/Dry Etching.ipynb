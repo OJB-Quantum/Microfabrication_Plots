{
 "cells": [
  {
   "cell_type": "markdown",
   "metadata": {},
   "source": [
    "# Modeling the evolution of an etch recipe in Deep silicon etching"
   ]
  },
  {
   "cell_type": "markdown",
   "metadata": {},
   "source": [
    "To Do for next version:\n",
    "Cellular automata implementation of dry silicon etching.\n",
    "Cells in a 3D grid are intialized with a state value of 1. As etching occures, the cell state is subtracted from at a user-defined rate that, for isotropic steps, its adjusted by the calculated angle between the surface normals and the center vertical axis of the etched feature.\n",
    "\n",
    "Simplify Etch conditions and simulation parameters\n",
    "\n",
    "Verify recipe steps for steps that are  Bosch or isotropic etching, vert_rate, horiz_rate, and bosch_vert_step. \n",
    "\n",
    "add image of a mask superimposed to the simulation"
   ]
  },
  {
   "cell_type": "markdown",
   "metadata": {},
   "source": [
    "During this notebook you will learn to  predict and model etch profiles from dry silicon etching based on known etch rates. You will be able to change multiple parameters, including the etch rate and exposure time."
   ]
  },
  {
   "cell_type": "markdown",
   "metadata": {},
   "source": [
    "To model continuous etching into silicon wafer on a Deep Silicon etching tool you will need to specify the correct parameters. In this case, you will simulate dry etching in a gas plasma."
   ]
  },
  {
   "cell_type": "code",
   "execution_count": 5,
   "metadata": {},
   "outputs": [],
   "source": [
    "    k_b = 1.38e-23  # Boltzman constant [J/K]\n",
    "    T_s = 100 + 274.15  # substrate temperature [K]\n",
    "    k_0 = (0,30,30)\n",
    "    F_r = 150  # flow rate of SF6 [sccm]\n",
    "    bias = -150 #volts"
   ]
  },
  {
   "cell_type": "markdown",
   "metadata": {},
   "source": [
    "Now, precribing custom Bosch, isotropic, and tapered (combined bosch and isotropic) etching steps can be modifyied if necessary in the following:"
   ]
  },
  {
   "cell_type": "code",
   "execution_count": null,
   "metadata": {},
   "outputs": [],
   "source": [
    "for i_bosch in range(recipe_steps[step]['bosch']):\n",
    "                    if len(str(i_bosch)) < 3:\n",
    "                        if len(str(i_bosch)) == 1: \n",
    "                            if i_bosch == 9:\n",
    "                                i_bosch_str = '0' + str(i_bosch+1)\n",
    "                            else:\n",
    "                                i_bosch_str = '00' + str(i_bosch+1)\n",
    "                        elif len(str(i_bosch)) == 2: \n",
    "                            if i_bosch == 99:\n",
    "                                i_bosch_str = str(i_bosch+1)\n",
    "                            else:\n",
    "                                i_bosch_str = '0' + str(i_bosch+1)\n",
    "                                \n",
    "                    # initial bosch cycle key\n",
    "                    key = step + '_bosch-iso' + i_cycle_str + \\\n",
    "                          '_bosch' + i_bosch_str + '_isotime0'\n",
    "                    etch_grid[key] = []"
   ]
  },
  {
   "cell_type": "markdown",
   "metadata": {},
   "source": [
    "The surface is evolved by using the computed normals of the surface and stepping points back along the normals by some user defined vertical and horizontal etch rates."
   ]
  },
  {
   "cell_type": "markdown",
   "metadata": {},
   "source": [
    "\n",
    "<img align=\"center\" src=\"img/DESi.png\" width=\"750\" />\n",
    "<h3 align=\"center\">From the class, remember the effect of Deep dry etching of poly-Si</h3>\n"
   ]
  },
  {
   "cell_type": "code",
   "execution_count": null,
   "metadata": {},
   "outputs": [],
   "source": [
    "    \n",
    "C4F8 = 100  # sccm cubic centimeters per minute  \n",
    "SF6 = 300  # sccm\n",
    "bias = 10  # volts\n",
    "time = 600  # seconds\n",
    "opening = 100  # um\n",
    "\n",
    "plt.close('all')\n",
    "\n",
    "# load mask\n",
    "im_dir = '/ExampleMasks/'\n",
    "im_file = 'fillet_square.png'\n",
    "im_path = im_dir + im_file\n",
    "curr_im = cv2.imread(im_path, cv2.IMREAD_ANYDEPTH)   \n",
    "curr_im = cv2.GaussianBlur(curr_im,(3,3),0)\n",
    "\n",
    "\n",
    "rgb_im = cv2.cvtColor(curr_im, cv2.COLOR_GRAY2RGB)\n",
    "     \n",
    "cont_im, conts, hier = cv2.findContours(curr_im, cv2.RETR_LIST, cv2.CHAIN_APPROX_NONE)    \n",
    "conts_im = cv2.drawContours(rgb_im, conts, -1, (0,255,0),3)\n",
    "\n",
    "t_start = 0\n",
    "t_end = 600  # seconds\n",
    "t_step = 5\n",
    "rot90_mat = np.array([[np.cos(np.pi/2), -np.sin(np.pi/2)],\n",
    "                      [np.sin(np.pi/2), np.cos(np.pi/2)]])\n",
    "vert_rate = 287/600  # um/s\n",
    "\n",
    "horiz_rate = 77/600  # um/s\n",
    "pixel_um_conv = 251/90.4672  # px/um\n",
    "cmap = 'gnuplot'  # 'inferno' 'viridis'  # 'hot'\n",
    "vmin = -290  # expected range of depth for color bar (min)\n",
    "vmax = 0"
   ]
  },
  {
   "cell_type": "markdown",
   "metadata": {},
   "source": [
    "Now try changing the parameters to approximate the etching results as follows:"
   ]
  },
  {
   "cell_type": "markdown",
   "metadata": {},
   "source": [
    "\n",
    "<img align=\"center\" src=\"img/DEtop.gif\" width=\"750\" />\n",
    "<h3 align=\"center\">Top view of Dry Etching with the fillet mask example. Time steps of 5s.</h3>\n"
   ]
  },
  {
   "cell_type": "markdown",
   "metadata": {},
   "source": [
    "<img src=\"img/DEiso.gif\" width=\"750\" />\n",
    "<h3 align=\"center\">Isometric view of Dry Etching with the fillet mask example. Time steps of 5s.</h3>\n"
   ]
  },
  {
   "cell_type": "markdown",
   "metadata": {},
   "source": [
    "From the class, remember the equipment diagram used for Deep dry etching.\n",
    "<img src=\"img/DEeqp.png\" width=\"500\" />\n",
    "\n",
    "\n"
   ]
  },
  {
   "cell_type": "code",
   "execution_count": null,
   "metadata": {},
   "outputs": [],
   "source": []
  }
 ],
 "metadata": {
  "kernelspec": {
   "display_name": "Python",
   "language": "python",
   "name": "python3"
  },
  "language_info": {
   "codemirror_mode": {
    "name": "ipython",
    "version": 3
   },
   "file_extension": ".py",
   "mimetype": "text/x-python",
   "name": "python",
   "nbconvert_exporter": "python",
   "pygments_lexer": "ipython3",
   "version": "3.8.10"
  }
 },
 "nbformat": 4,
 "nbformat_minor": 4
}
