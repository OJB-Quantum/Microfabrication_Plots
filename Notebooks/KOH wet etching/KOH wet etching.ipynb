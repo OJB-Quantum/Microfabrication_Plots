{
 "cells": [
  {
   "cell_type": "markdown",
   "metadata": {},
   "source": [
    "# KOH wet etching: ANISOTROPIC CRYSTALLINE ETCHING SIMULATION"
   ]
  },
  {
   "cell_type": "markdown",
   "metadata": {},
   "source": [
    "During this notebook you will learn about anisotropic crystalline etching simulation using a continuous cellular automata algorithm (ACES)."
   ]
  },
  {
   "cell_type": "markdown",
   "metadata": {},
   "source": [
    "Preferential etching of silicon (using EDP, KOH, or TMAH solutions) is a prevalent process step for realizing three-dimensional MEMS structures. Methods for simulating the etching process fall into two categories: Cellular Automata (CA) method and geometric method. In the geometric method, a semiconductor substrate is treated as a continuous entity. In the CA method, on the other hand, a substrate is represented by a large number of cells that reside in a crystalline lattice (e.g. diamond lattice for Si. A material system is described by discrete spatial, temporal, and cell-state variables. During the etching process, the state of each individual cell, i.e. whether it is removed from or remains within the lattice, will be determined by the strength of chemical bounds and link status of its lattice neighbors. The CA method typically requires more computer memory compared with the geometric method; nonetheless, it exhibits high efficiency and accuracy when handling arbitrarily complex mask shapes and merging of three-dimensional structures."
   ]
  },
  {
   "cell_type": "markdown",
   "metadata": {},
   "source": [
    "Lets start defining the etch rate for KOH 30% at 1.4um/min. For different etch rates and orientations, choose one from the following database"
   ]
  },
  {
   "cell_type": "markdown",
   "metadata": {},
   "source": [
    "| Etchant Name | { 100 } | { 110 } |{ 311 } | { 111 } |\n",
    "| --- | --- | --- | --- | --- |\n",
    "| 1.4 um/min | 1 | 1.414 | 1.414 | 0 |\n",
    "| Iso Etch 1 um/min | 1 | 1 | 1 | 1 |\n"
   ]
  },
  {
   "cell_type": "markdown",
   "metadata": {},
   "source": [
    "Now, define the etchant values and orientation according to the table above"
   ]
  },
  {
   "cell_type": "code",
   "execution_count": 2,
   "metadata": {},
   "outputs": [],
   "source": [
    "    rate = 1.38e-23  # Etchant rate [um/min]\n",
    "    Lat_100 = 1\n",
    "    Lat_110 = 1.414\n",
    "    Lat_311 = 1.414\n",
    "    Lat_111 = 0"
   ]
  },
  {
   "cell_type": "markdown",
   "metadata": {},
   "source": [
    "Next, we chose the mask we're going to use on our simulation. For the purpose of simpliccity let's start with one of the following:\n"
   ]
  },
  {
   "cell_type": "markdown",
   "metadata": {},
   "source": [
    "<center><img align=\"center\" src=\"img/cantilever_1.png\" width=\"100\" />  <img align=\"center\" src=\"img/cantilever_2.png\" width=\"100\" /></center>\n"
   ]
  },
  {
   "cell_type": "markdown",
   "metadata": {},
   "source": [
    " Top views of models in different orientations. Black spheres and white ones represent atoms with different link-set types."
   ]
  },
  {
   "cell_type": "markdown",
   "metadata": {},
   "source": [
    "\n",
    "<center><img align=\"center\" src=\"img/KOH1.png\" width=\"300\" /></center><center><img align=\"center\" src=\"img/topview.png\" width=\"500\" /></center>\n",
    "\n",
    "<h3 align=\"center\">Schematic diagram of a diamond crystal lattice</h3>\n"
   ]
  },
  {
   "cell_type": "markdown",
   "metadata": {},
   "source": [
    "\n",
    "<center><img align=\"center\" src=\"img/KOH2.png\" width=\"500\" /></center>\n",
    "<h3 align=\"center\">Comparison of simulation and experimental results for an anisotropically etched tip array.</h3>\n"
   ]
  },
  {
   "cell_type": "markdown",
   "metadata": {},
   "source": [
    " The etch-ratio used in the simulation is {100}:{110}:{111} = 1:0.13:0. The continuous CA model can accommodate isotropic etchings successfully. In isotropic etching, the etch rate in all directions are identical. Preferential etching of silicon (using EDP, KOH, or TMAH solutions) is a prevalent process step for realizing three-dimensional MEMS structures. Methods for simulating the etching process fall into two categories: Cellular Automata (CA) method and geometric method. In the geometric method, a semiconductor substrate is treated as a continuous entity. In the CA method, on the other hand, a substrate is represented by a large number of cells that reside in a crystalline lattice (e.g. diamond lattice for Si, Fig. 1). A material system is described by discrete spatial, temporal, and cell-state variables."
   ]
  },
  {
   "cell_type": "markdown",
   "metadata": {},
   "source": [
    "Now compare the simulation result by selecting an etch rate of 1.4 um/min "
   ]
  },
  {
   "cell_type": "markdown",
   "metadata": {},
   "source": [
    "Arbitrary etch rates are incorporated using this new non-discrete state designation. During every etch step (with an associated time T), the dimension of a cell will be reduced by an amount that corresponds to the etch rate of the surface on which the cell resides. As an example, if the etch rate of {110} planes is 0.5 (normalized with respect to the fastest etch rate among all major low-index planes), the mass of cells on these surfaces will decrease by 0.5 in each step (with T being 1). If a cell is previously un-etched (i.e. mass equals 1), the value of its mass would be reduced to 0.5 from 1.0 in one etch step; should the etch continue, the mass would subsequently be reduced to 0 during the next step. In this case, one layer of cells on a {110} surface will be removed in two etch steps. The resultant etch rate is 0.5."
   ]
  },
  {
   "cell_type": "code",
   "execution_count": 20,
   "metadata": {},
   "outputs": [],
   "source": [
    "mask = \"cantilever2\" #####choose betweeen cantilever1 or cantilever2\n",
    "crossection_view = False ##### choose to see top or corss section view, one has to be false\n",
    "top_view = True"
   ]
  },
  {
   "cell_type": "code",
   "execution_count": 22,
   "metadata": {},
   "outputs": [
    {
     "name": "stdout",
     "output_type": "stream",
     "text": [
      "img/cantilever2_top.mp4\n"
     ]
    },
    {
     "data": {
      "text/html": [
       "<video src=\"img/cantilever2_top.mp4\" controls  >\n",
       "      Your browser does not support the <code>video</code> element.\n",
       "    </video>"
      ],
      "text/plain": [
       "<IPython.core.display.Video object>"
      ]
     },
     "execution_count": 22,
     "metadata": {},
     "output_type": "execute_result"
    }
   ],
   "source": [
    "from IPython.display import Video\n",
    "\n",
    "if crossection_view == True and top_view == False :\n",
    "    path = \"img/\" + mask + \"_cross.mp4\"\n",
    "elif crossection_view == False and top_view == True :\n",
    "    path = \"img/\" + mask + \"_top.mp4\"\n",
    "\n",
    "print(path)\n",
    "Video(path)"
   ]
  },
  {
   "cell_type": "code",
   "execution_count": null,
   "metadata": {},
   "outputs": [],
   "source": []
  }
 ],
 "metadata": {
  "kernelspec": {
   "display_name": "Python",
   "language": "python",
   "name": "python3"
  },
  "language_info": {
   "codemirror_mode": {
    "name": "ipython",
    "version": 3
   },
   "file_extension": ".py",
   "mimetype": "text/x-python",
   "name": "python",
   "nbconvert_exporter": "python",
   "pygments_lexer": "ipython3",
   "version": "3.8.10"
  }
 },
 "nbformat": 4,
 "nbformat_minor": 4
}
