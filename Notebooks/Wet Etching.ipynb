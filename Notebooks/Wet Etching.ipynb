{
 "cells": [
  {
   "cell_type": "markdown",
   "metadata": {},
   "source": [
    "# Wet Chemical Etching "
   ]
  },
  {
   "cell_type": "markdown",
   "metadata": {},
   "source": [
    "Some surfaces etch when exposed to solutions containing certain corrosive chemicals (etchants), such as acids. When exposed, these surfaces begin to dissolve. However, if the surface is painted with a material that does not corrode when exposed to the solution, patterns can be formed on the surface. The painted areas then stand in relief, allowing complex patterns to be created without the need for mechanical operations such as engraving with tools harder than the material."
   ]
  },
  {
   "cell_type": "markdown",
   "metadata": {},
   "source": [
    "Solution based (“wet”) etching of substrate in controlled flow of etchant.     Used in micropattering of IC’s, MEMS devices. Wet etching comprises of three steps: Transport of the liquid etchant to substrate. A reduction-oxidation (redox) reaction followed by dissolution. Transport of the by products in the reaction.  "
   ]
  },
  {
   "cell_type": "markdown",
   "metadata": {},
   "source": [
    "The reaction will be represented as a flux of the etchant into the surface, where it is consumed in the etching reaction. The 2D model that you will develop simulates etching of a copper surface exposed to a CuCl2 solution. The solvent is assumed to be liquid water. The mass transport of CuCl2 is described by coupling a Laminar Flow interface with a Transport of Diluted Species interface. By doing so, both convective and diffusive transport of the CuCl2 etchant is simulated. This is achieved by solving the following equations:"
   ]
  },
  {
   "cell_type": "markdown",
   "metadata": {},
   "source": [
    " The mass transport of CuCl2 is described by coupling a Laminar Flow interface with a Transport of Diluted Species interface. By doing so, both convective and diffusive transport of the CuCl2 etchant is simulated. This is achieved by solving the following equations:"
   ]
  },
  {
   "cell_type": "markdown",
   "metadata": {},
   "source": [
    "<img align=\"center\" src=\"img/latex.png\" width=\"150\" />\n"
   ]
  },
  {
   "cell_type": "markdown",
   "metadata": {},
   "source": [
    "Where u is obtained by solving the Navier-Stokes equations for laminar flow:\n",
    "\n"
   ]
  },
  {
   "cell_type": "markdown",
   "metadata": {},
   "source": [
    "$$I(x,y)=\\idotsint_{\\infty}^{-\\infty} \\tilde{J}(f,g)\\tilde{H}(f+f',g+g')\\tilde{H}) \\\\ $$"
   ]
  },
  {
   "cell_type": "markdown",
   "metadata": {},
   "source": [
    "Now we need to define the parameters for the mask and reactant"
   ]
  },
  {
   "cell_type": "code",
   "execution_count": null,
   "metadata": {},
   "outputs": [],
   "source": [
    "cCuCl2_bulk 1[mol/dm^3] \"Bulk concentration, cCuCl2\"\n",
    "kf 100[m/s] \"Forward rate constant\"\n",
    "M_Cu 65[g/mol] \"Molar mass, Cu\"\n",
    "rho_Cu 9000[kg/m^3] \"Density, Cu\"\n",
    "h_mask 0.1[mm] \"Height mask\"\n",
    "h_seed_cavity 0.1[mm] \"Seed cavity height\"\n",
    "d_mask 1[mm] \"Mask length\"\n",
    "h_boundary_layer 1[mm]+2*h_seed_cavity \"Boundary layer width\"\n",
    "D 1e-9[m^2/s] \"Diffusion coefficient of reactant\""
   ]
  },
  {
   "cell_type": "markdown",
   "metadata": {},
   "source": [
    "<center><img align=\"center\" src=\"img/WE.png\" width=\"500\" /></center>\n"
   ]
  },
  {
   "cell_type": "markdown",
   "metadata": {},
   "source": [
    "To apply these parameters, we need to connect to the COMSOL API"
   ]
  },
  {
   "cell_type": "code",
   "execution_count": null,
   "metadata": {},
   "outputs": [],
   "source": [
    "import mph\n",
    "client = mph.start(cores=1)"
   ]
  },
  {
   "cell_type": "markdown",
   "metadata": {},
   "source": [
    "Now that we have the client up and running, we can tell it to load a model file"
   ]
  },
  {
   "cell_type": "code",
   "execution_count": null,
   "metadata": {},
   "outputs": [],
   "source": [
    "model = client.load('capacitor.mph')"
   ]
  },
  {
   "cell_type": "markdown",
   "metadata": {},
   "source": [
    "The surface is evolved by using the computed normals of the surface and stepping points back along the normals by some user defined vertical and horizontal etch rates."
   ]
  },
  {
   "cell_type": "markdown",
   "metadata": {},
   "source": [
    "\n",
    "<center><img align=\"center\" src=\"img/anim.gif\" width=\"750\" /></center>\n"
   ]
  },
  {
   "cell_type": "code",
   "execution_count": null,
   "metadata": {},
   "outputs": [],
   "source": [
    "    \n",
    "(x, y, E) = model.evaluate(['x', 'y', 'es.normE'])\n",
    ">>> E.max()\n",
    "1480.2743893783063\n",
    ">>> imax = E.argmax()\n",
    ">>> x[imax], y[imax]\n",
    "(-0.000503768636204733, -0.004088126064370979)"
   ]
  },
  {
   "cell_type": "markdown",
   "metadata": {},
   "source": [
    "We could also get an output of the velocity, pressure, and mesh diagrams"
   ]
  },
  {
   "cell_type": "markdown",
   "metadata": {},
   "source": [
    "<center><img align=\"center\" src=\"img/anim2.gif\" width=\"750\" /></center>\n"
   ]
  },
  {
   "cell_type": "markdown",
   "metadata": {},
   "source": [
    "Now try changing the parameters to approximate the etching results as follows:"
   ]
  },
  {
   "cell_type": "code",
   "execution_count": null,
   "metadata": {},
   "outputs": [],
   "source": [
    "cCuCl2_bulk\t1[mol/dm^3] = 1000 mol/m³\t#Bulk concentration, cCuCl2\n",
    "kf = 100[m/s] = 100 m/s\t#Forward rate constant\n",
    "M_Cu = 65[g/mol]\t0.065 kg/mol\t#Molar mass, Cu\n",
    "rho_Cu= 9000[kg/m^3]\t9000 kg/m³\t#Density, Cu\n",
    "h_mask = 0.1[mm]\t1E-4 m\t#Height mask\n",
    "h_seed_cavity = 0.1[mm]\t1E-4 m\t#Seed cavity height\n",
    "d_mask\t1[mm] = 0.001 m\t#Mask length\n",
    "h_boundary_layer = 1[mm]+2*h_seed_cavity\t0.0012 m\t#Boundary layer width\n",
    "D = 1e-9[m^2/s]\t1E-9 m²/s\t#Diffusion coefficient of reactant\n"
   ]
  },
  {
   "cell_type": "markdown",
   "metadata": {},
   "source": [
    "As the etching process is limited by the mass transfer of CuCl2, the flow profile will convect the etchant from left to right, causing a higher rate of etching toward the right edge of the groove than the left. So what would happen if the fluid were completely stagnant? Assuming that the fluid is stagnant means that we ignore natural convection, which will usually cause fluid motion in ambient conditions. Treating the species transport as diffusion-only is acceptable, since we are focusing on processes occurring on the below-mm scale, in the viscous boundary layer close to the Cu surface. The transport of CuCl2 in the stagnant layer would occur only by diffusion, resulting in a slower rate of etching, but a more even groove shape, as shown in the figure below."
   ]
  }
 ],
 "metadata": {
  "kernelspec": {
   "display_name": "Python",
   "language": "python",
   "name": "python3"
  },
  "language_info": {
   "codemirror_mode": {
    "name": "ipython",
    "version": 3
   },
   "file_extension": ".py",
   "mimetype": "text/x-python",
   "name": "python",
   "nbconvert_exporter": "python",
   "pygments_lexer": "ipython3",
   "version": "3.8.10"
  }
 },
 "nbformat": 4,
 "nbformat_minor": 4
}
